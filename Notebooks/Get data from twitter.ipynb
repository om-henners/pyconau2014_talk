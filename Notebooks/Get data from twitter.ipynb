{
 "metadata": {
  "name": "",
  "signature": "sha256:06715e7542c764c0e65b47d2128817bb961b32687ccea664b2503d51ddbcf32c"
 },
 "nbformat": 3,
 "nbformat_minor": 0,
 "worksheets": [
  {
   "cells": [
    {
     "cell_type": "code",
     "collapsed": false,
     "input": [
      "import os\n",
      "import json\n",
      "\n",
      "import requests\n",
      "import requests_oauthlib\n",
      "import fiona\n",
      "import fiona.crs\n",
      "import pyproj\n",
      "import shapely.geometry\n",
      "import dateutil.parser\n",
      "import pytz"
     ],
     "language": "python",
     "metadata": {},
     "outputs": []
    },
    {
     "cell_type": "markdown",
     "metadata": {},
     "source": [
      "First of all set up the OAuth session to connect to the Twitter API"
     ]
    },
    {
     "cell_type": "code",
     "collapsed": false,
     "input": [
      "client_key = os.environ[\"TWITTER_CLIENT_KEY\"]\n",
      "client_secret = os.environ[\"TWITTER_SECRET_KEY\"]\n",
      "callback_uri = 'https://127.0.0.1/callback'\n",
      "request_token_url = 'https://api.twitter.com/oauth/request_token'\n",
      "authorization_url = 'https://api.twitter.com/oauth/authorize'\n",
      "access_token_url = 'https://api.twitter.com/oauth/access_token'\n",
      "\n",
      "oauth_session = requests_oauthlib.OAuth1Session(client_key, client_secret=client_secret, callback_uri=callback_uri)\n",
      "\n",
      "oauth_session.fetch_request_token(request_token_url)\n",
      "\n",
      "auth_response = oauth_session.authorization_url(authorization_url)\n",
      "print auth_response #Open URL and authorize"
     ],
     "language": "python",
     "metadata": {},
     "outputs": []
    },
    {
     "cell_type": "code",
     "collapsed": false,
     "input": [
      "oauth_session.parse_authorization_response(\"PASTE CALLBACK URL HERE\")"
     ],
     "language": "python",
     "metadata": {},
     "outputs": []
    },
    {
     "cell_type": "code",
     "collapsed": false,
     "input": [
      "oauth_session.fetch_access_token(access_token_url)"
     ],
     "language": "python",
     "metadata": {},
     "outputs": []
    },
    {
     "cell_type": "markdown",
     "metadata": {},
     "source": [
      "Set up the query parameters (see https://dev.twitter.com/docs/api/1.1/post/statuses/filter)"
     ]
    },
    {
     "cell_type": "code",
     "collapsed": false,
     "input": [
      "stream_url = \"https://stream.twitter.com/1.1/statuses/filter.json\"\n",
      "params = {\n",
      "    \"locations\":\"152.518374,-27.976484,153.518374,-26.976484\" #Bounding box around brisbane convention centre\n",
      "}"
     ],
     "language": "python",
     "metadata": {},
     "outputs": []
    },
    {
     "cell_type": "markdown",
     "metadata": {},
     "source": [
      "Interrupt the process below to stop streaming tweets."
     ]
    },
    {
     "cell_type": "code",
     "collapsed": false,
     "input": [
      "r = oauth_session.get(stream_url, params=params, stream=True)\n",
      "with open(\"./data/tweeet_sample.json\", \"wb\") as f:\n",
      "    for i, c in enumerate(r.iter_content()):\n",
      "        f.write(c)\n",
      "        if i % (1024) == 0:\n",
      "            f.flush() #flush to the disk every so often"
     ],
     "language": "python",
     "metadata": {},
     "outputs": []
    },
    {
     "cell_type": "markdown",
     "metadata": {},
     "source": [
      "Now process the tweets and write to a shapefile using Fiona"
     ]
    },
    {
     "cell_type": "code",
     "collapsed": false,
     "input": [
      "driver = 'ESRI Shapefile'\n",
      "crs = fiona.crs.from_epsg(32756)\n",
      "schema = {\n",
      "    \"geometry\": \"Point\",\n",
      "    \"properties\": {\n",
      "        \"created_at\": \"str\",\n",
      "        \"user\": \"str\",\n",
      "        \"message\": \"str:144\", #Hah!\n",
      "        \"pyconau\": \"int\",\n",
      "    }\n",
      "}"
     ],
     "language": "python",
     "metadata": {},
     "outputs": []
    },
    {
     "cell_type": "code",
     "collapsed": false,
     "input": [
      "wgs84 = pyproj.Proj(init=\"epsg:4326\")\n",
      "z56_s = pyproj.Proj(init=\"epsg:32756\")"
     ],
     "language": "python",
     "metadata": {},
     "outputs": []
    },
    {
     "cell_type": "code",
     "collapsed": false,
     "input": [
      "aest = pytz.timezone(\"Australia/Brisbane\")"
     ],
     "language": "python",
     "metadata": {},
     "outputs": []
    },
    {
     "cell_type": "code",
     "collapsed": false,
     "input": [
      "failed = []\n",
      "\n",
      "with fiona.open('./data/tweets_locations.shp', 'w', driver=driver, crs=crs, schema=schema) as c:\n",
      "\n",
      "    with open(\"./data/tweeet_sample.json\") as f:\n",
      "        for line in f:\n",
      "            if not tweet: #skip blank lines\n",
      "                continue\n",
      "            try:\n",
      "                tweet = json.loads(line)\n",
      "            except:\n",
      "                #In case the line hasn't been processed properly\n",
      "                failed.append(tweet)\n",
      "                continue\n",
      "            else:\n",
      "                rec = {\n",
      "                    \"properties\": {\n",
      "                        #twitter times are in UTC. I'd like Brisbane instead\n",
      "                        \"created_at\": dateutil.parser.parse(tweet[\"created_at\"]).astimezone(aest).isoformat(),\n",
      "                        \"user\": tweet[\"user\"][\"screen_name\"],\n",
      "                        \"message\": tweet[\"text\"],\n",
      "                        \"pyconau\": \"pyconau\" in tweet[\"text\"].lower()\n",
      "                    },\n",
      "                    \"id\": \"-1\" #new record\n",
      "                }\n",
      "\n",
      "                if not tweet[\"geo\"]:\n",
      "                    failed.append(tweet)\n",
      "                    continue\n",
      "\n",
      "                point = shapely.geometry.Point(\n",
      "                    #twitter returns coordinates as latitude / longitude (i.e., y / x)\n",
      "                    pyproj.transform(wgs84, z56_s, tweet[\"geo\"][\"coordinates\"][1], tweet[\"geo\"][\"coordinates\"][0])\n",
      "                )\n",
      "\n",
      "                rec[\"geometry\"] = shapely.geometry.mapping(point)\n",
      "\n",
      "                c.write(rec)\n",
      "            \n",
      "print \"Success\", len(c)\n",
      "print \"Failed\", len(failed)\n",
      "        "
     ],
     "language": "python",
     "metadata": {},
     "outputs": []
    }
   ],
   "metadata": {}
  }
 ]
}